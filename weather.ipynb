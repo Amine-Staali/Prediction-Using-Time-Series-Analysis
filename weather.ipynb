{
  "nbformat": 4,
  "nbformat_minor": 0,
  "metadata": {
    "colab": {
      "provenance": []
    },
    "kernelspec": {
      "name": "python3",
      "display_name": "Python 3"
    },
    "language_info": {
      "name": "python"
    }
  },
  "cells": [
    {
      "cell_type": "code",
      "execution_count": 20,
      "metadata": {
        "id": "2tkXPzEUYz3E"
      },
      "outputs": [],
      "source": [
        "import pandas as pd    # to handle the dataframe\n",
        "pd.set_option('expand_frame_repr', False) #to avoid the multi-lines formatting of the dataframe\n",
        "import numpy as np     # to handle numbers and ndarray\n",
        "import missingno as msno #to visualize missing data and get a quick visual summary of the completeness of the data\n"
      ]
    },
    {
      "cell_type": "code",
      "source": [
        "london_df = pd.read_csv('./london_weather.csv')\n",
        "london_df.head()"
      ],
      "metadata": {
        "colab": {
          "base_uri": "https://localhost:8080/",
          "height": 206
        },
        "id": "27VsQWy7ZAC6",
        "outputId": "c18979c3-ae9d-4277-c939-df18f5d3e290"
      },
      "execution_count": 21,
      "outputs": [
        {
          "output_type": "execute_result",
          "data": {
            "text/plain": [
              "       date  cloud_cover  sunshine  global_radiation  max_temp  mean_temp  min_temp  precipitation  pressure  snow_depth\n",
              "0  19790101          2.0       7.0              52.0       2.3       -4.1      -7.5            0.4  101900.0         9.0\n",
              "1  19790102          6.0       1.7              27.0       1.6       -2.6      -7.5            0.0  102530.0         8.0\n",
              "2  19790103          5.0       0.0              13.0       1.3       -2.8      -7.2            0.0  102050.0         4.0\n",
              "3  19790104          8.0       0.0              13.0      -0.3       -2.6      -6.5            0.0  100840.0         2.0\n",
              "4  19790105          6.0       2.0              29.0       5.6       -0.8      -1.4            0.0  102250.0         1.0"
            ],
            "text/html": [
              "\n",
              "  <div id=\"df-c01bdd7e-8819-4700-ac60-37caa63f2863\" class=\"colab-df-container\">\n",
              "    <div>\n",
              "<style scoped>\n",
              "    .dataframe tbody tr th:only-of-type {\n",
              "        vertical-align: middle;\n",
              "    }\n",
              "\n",
              "    .dataframe tbody tr th {\n",
              "        vertical-align: top;\n",
              "    }\n",
              "\n",
              "    .dataframe thead th {\n",
              "        text-align: right;\n",
              "    }\n",
              "</style>\n",
              "<table border=\"1\" class=\"dataframe\">\n",
              "  <thead>\n",
              "    <tr style=\"text-align: right;\">\n",
              "      <th></th>\n",
              "      <th>date</th>\n",
              "      <th>cloud_cover</th>\n",
              "      <th>sunshine</th>\n",
              "      <th>global_radiation</th>\n",
              "      <th>max_temp</th>\n",
              "      <th>mean_temp</th>\n",
              "      <th>min_temp</th>\n",
              "      <th>precipitation</th>\n",
              "      <th>pressure</th>\n",
              "      <th>snow_depth</th>\n",
              "    </tr>\n",
              "  </thead>\n",
              "  <tbody>\n",
              "    <tr>\n",
              "      <th>0</th>\n",
              "      <td>19790101</td>\n",
              "      <td>2.0</td>\n",
              "      <td>7.0</td>\n",
              "      <td>52.0</td>\n",
              "      <td>2.3</td>\n",
              "      <td>-4.1</td>\n",
              "      <td>-7.5</td>\n",
              "      <td>0.4</td>\n",
              "      <td>101900.0</td>\n",
              "      <td>9.0</td>\n",
              "    </tr>\n",
              "    <tr>\n",
              "      <th>1</th>\n",
              "      <td>19790102</td>\n",
              "      <td>6.0</td>\n",
              "      <td>1.7</td>\n",
              "      <td>27.0</td>\n",
              "      <td>1.6</td>\n",
              "      <td>-2.6</td>\n",
              "      <td>-7.5</td>\n",
              "      <td>0.0</td>\n",
              "      <td>102530.0</td>\n",
              "      <td>8.0</td>\n",
              "    </tr>\n",
              "    <tr>\n",
              "      <th>2</th>\n",
              "      <td>19790103</td>\n",
              "      <td>5.0</td>\n",
              "      <td>0.0</td>\n",
              "      <td>13.0</td>\n",
              "      <td>1.3</td>\n",
              "      <td>-2.8</td>\n",
              "      <td>-7.2</td>\n",
              "      <td>0.0</td>\n",
              "      <td>102050.0</td>\n",
              "      <td>4.0</td>\n",
              "    </tr>\n",
              "    <tr>\n",
              "      <th>3</th>\n",
              "      <td>19790104</td>\n",
              "      <td>8.0</td>\n",
              "      <td>0.0</td>\n",
              "      <td>13.0</td>\n",
              "      <td>-0.3</td>\n",
              "      <td>-2.6</td>\n",
              "      <td>-6.5</td>\n",
              "      <td>0.0</td>\n",
              "      <td>100840.0</td>\n",
              "      <td>2.0</td>\n",
              "    </tr>\n",
              "    <tr>\n",
              "      <th>4</th>\n",
              "      <td>19790105</td>\n",
              "      <td>6.0</td>\n",
              "      <td>2.0</td>\n",
              "      <td>29.0</td>\n",
              "      <td>5.6</td>\n",
              "      <td>-0.8</td>\n",
              "      <td>-1.4</td>\n",
              "      <td>0.0</td>\n",
              "      <td>102250.0</td>\n",
              "      <td>1.0</td>\n",
              "    </tr>\n",
              "  </tbody>\n",
              "</table>\n",
              "</div>\n",
              "    <div class=\"colab-df-buttons\">\n",
              "\n",
              "  <div class=\"colab-df-container\">\n",
              "    <button class=\"colab-df-convert\" onclick=\"convertToInteractive('df-c01bdd7e-8819-4700-ac60-37caa63f2863')\"\n",
              "            title=\"Convert this dataframe to an interactive table.\"\n",
              "            style=\"display:none;\">\n",
              "\n",
              "  <svg xmlns=\"http://www.w3.org/2000/svg\" height=\"24px\" viewBox=\"0 -960 960 960\">\n",
              "    <path d=\"M120-120v-720h720v720H120Zm60-500h600v-160H180v160Zm220 220h160v-160H400v160Zm0 220h160v-160H400v160ZM180-400h160v-160H180v160Zm440 0h160v-160H620v160ZM180-180h160v-160H180v160Zm440 0h160v-160H620v160Z\"/>\n",
              "  </svg>\n",
              "    </button>\n",
              "\n",
              "  <style>\n",
              "    .colab-df-container {\n",
              "      display:flex;\n",
              "      gap: 12px;\n",
              "    }\n",
              "\n",
              "    .colab-df-convert {\n",
              "      background-color: #E8F0FE;\n",
              "      border: none;\n",
              "      border-radius: 50%;\n",
              "      cursor: pointer;\n",
              "      display: none;\n",
              "      fill: #1967D2;\n",
              "      height: 32px;\n",
              "      padding: 0 0 0 0;\n",
              "      width: 32px;\n",
              "    }\n",
              "\n",
              "    .colab-df-convert:hover {\n",
              "      background-color: #E2EBFA;\n",
              "      box-shadow: 0px 1px 2px rgba(60, 64, 67, 0.3), 0px 1px 3px 1px rgba(60, 64, 67, 0.15);\n",
              "      fill: #174EA6;\n",
              "    }\n",
              "\n",
              "    .colab-df-buttons div {\n",
              "      margin-bottom: 4px;\n",
              "    }\n",
              "\n",
              "    [theme=dark] .colab-df-convert {\n",
              "      background-color: #3B4455;\n",
              "      fill: #D2E3FC;\n",
              "    }\n",
              "\n",
              "    [theme=dark] .colab-df-convert:hover {\n",
              "      background-color: #434B5C;\n",
              "      box-shadow: 0px 1px 3px 1px rgba(0, 0, 0, 0.15);\n",
              "      filter: drop-shadow(0px 1px 2px rgba(0, 0, 0, 0.3));\n",
              "      fill: #FFFFFF;\n",
              "    }\n",
              "  </style>\n",
              "\n",
              "    <script>\n",
              "      const buttonEl =\n",
              "        document.querySelector('#df-c01bdd7e-8819-4700-ac60-37caa63f2863 button.colab-df-convert');\n",
              "      buttonEl.style.display =\n",
              "        google.colab.kernel.accessAllowed ? 'block' : 'none';\n",
              "\n",
              "      async function convertToInteractive(key) {\n",
              "        const element = document.querySelector('#df-c01bdd7e-8819-4700-ac60-37caa63f2863');\n",
              "        const dataTable =\n",
              "          await google.colab.kernel.invokeFunction('convertToInteractive',\n",
              "                                                    [key], {});\n",
              "        if (!dataTable) return;\n",
              "\n",
              "        const docLinkHtml = 'Like what you see? Visit the ' +\n",
              "          '<a target=\"_blank\" href=https://colab.research.google.com/notebooks/data_table.ipynb>data table notebook</a>'\n",
              "          + ' to learn more about interactive tables.';\n",
              "        element.innerHTML = '';\n",
              "        dataTable['output_type'] = 'display_data';\n",
              "        await google.colab.output.renderOutput(dataTable, element);\n",
              "        const docLink = document.createElement('div');\n",
              "        docLink.innerHTML = docLinkHtml;\n",
              "        element.appendChild(docLink);\n",
              "      }\n",
              "    </script>\n",
              "  </div>\n",
              "\n",
              "\n",
              "<div id=\"df-5feef7d8-37c1-490f-880f-b78647b6b1fd\">\n",
              "  <button class=\"colab-df-quickchart\" onclick=\"quickchart('df-5feef7d8-37c1-490f-880f-b78647b6b1fd')\"\n",
              "            title=\"Suggest charts\"\n",
              "            style=\"display:none;\">\n",
              "\n",
              "<svg xmlns=\"http://www.w3.org/2000/svg\" height=\"24px\"viewBox=\"0 0 24 24\"\n",
              "     width=\"24px\">\n",
              "    <g>\n",
              "        <path d=\"M19 3H5c-1.1 0-2 .9-2 2v14c0 1.1.9 2 2 2h14c1.1 0 2-.9 2-2V5c0-1.1-.9-2-2-2zM9 17H7v-7h2v7zm4 0h-2V7h2v10zm4 0h-2v-4h2v4z\"/>\n",
              "    </g>\n",
              "</svg>\n",
              "  </button>\n",
              "\n",
              "<style>\n",
              "  .colab-df-quickchart {\n",
              "      --bg-color: #E8F0FE;\n",
              "      --fill-color: #1967D2;\n",
              "      --hover-bg-color: #E2EBFA;\n",
              "      --hover-fill-color: #174EA6;\n",
              "      --disabled-fill-color: #AAA;\n",
              "      --disabled-bg-color: #DDD;\n",
              "  }\n",
              "\n",
              "  [theme=dark] .colab-df-quickchart {\n",
              "      --bg-color: #3B4455;\n",
              "      --fill-color: #D2E3FC;\n",
              "      --hover-bg-color: #434B5C;\n",
              "      --hover-fill-color: #FFFFFF;\n",
              "      --disabled-bg-color: #3B4455;\n",
              "      --disabled-fill-color: #666;\n",
              "  }\n",
              "\n",
              "  .colab-df-quickchart {\n",
              "    background-color: var(--bg-color);\n",
              "    border: none;\n",
              "    border-radius: 50%;\n",
              "    cursor: pointer;\n",
              "    display: none;\n",
              "    fill: var(--fill-color);\n",
              "    height: 32px;\n",
              "    padding: 0;\n",
              "    width: 32px;\n",
              "  }\n",
              "\n",
              "  .colab-df-quickchart:hover {\n",
              "    background-color: var(--hover-bg-color);\n",
              "    box-shadow: 0 1px 2px rgba(60, 64, 67, 0.3), 0 1px 3px 1px rgba(60, 64, 67, 0.15);\n",
              "    fill: var(--button-hover-fill-color);\n",
              "  }\n",
              "\n",
              "  .colab-df-quickchart-complete:disabled,\n",
              "  .colab-df-quickchart-complete:disabled:hover {\n",
              "    background-color: var(--disabled-bg-color);\n",
              "    fill: var(--disabled-fill-color);\n",
              "    box-shadow: none;\n",
              "  }\n",
              "\n",
              "  .colab-df-spinner {\n",
              "    border: 2px solid var(--fill-color);\n",
              "    border-color: transparent;\n",
              "    border-bottom-color: var(--fill-color);\n",
              "    animation:\n",
              "      spin 1s steps(1) infinite;\n",
              "  }\n",
              "\n",
              "  @keyframes spin {\n",
              "    0% {\n",
              "      border-color: transparent;\n",
              "      border-bottom-color: var(--fill-color);\n",
              "      border-left-color: var(--fill-color);\n",
              "    }\n",
              "    20% {\n",
              "      border-color: transparent;\n",
              "      border-left-color: var(--fill-color);\n",
              "      border-top-color: var(--fill-color);\n",
              "    }\n",
              "    30% {\n",
              "      border-color: transparent;\n",
              "      border-left-color: var(--fill-color);\n",
              "      border-top-color: var(--fill-color);\n",
              "      border-right-color: var(--fill-color);\n",
              "    }\n",
              "    40% {\n",
              "      border-color: transparent;\n",
              "      border-right-color: var(--fill-color);\n",
              "      border-top-color: var(--fill-color);\n",
              "    }\n",
              "    60% {\n",
              "      border-color: transparent;\n",
              "      border-right-color: var(--fill-color);\n",
              "    }\n",
              "    80% {\n",
              "      border-color: transparent;\n",
              "      border-right-color: var(--fill-color);\n",
              "      border-bottom-color: var(--fill-color);\n",
              "    }\n",
              "    90% {\n",
              "      border-color: transparent;\n",
              "      border-bottom-color: var(--fill-color);\n",
              "    }\n",
              "  }\n",
              "</style>\n",
              "\n",
              "  <script>\n",
              "    async function quickchart(key) {\n",
              "      const quickchartButtonEl =\n",
              "        document.querySelector('#' + key + ' button');\n",
              "      quickchartButtonEl.disabled = true;  // To prevent multiple clicks.\n",
              "      quickchartButtonEl.classList.add('colab-df-spinner');\n",
              "      try {\n",
              "        const charts = await google.colab.kernel.invokeFunction(\n",
              "            'suggestCharts', [key], {});\n",
              "      } catch (error) {\n",
              "        console.error('Error during call to suggestCharts:', error);\n",
              "      }\n",
              "      quickchartButtonEl.classList.remove('colab-df-spinner');\n",
              "      quickchartButtonEl.classList.add('colab-df-quickchart-complete');\n",
              "    }\n",
              "    (() => {\n",
              "      let quickchartButtonEl =\n",
              "        document.querySelector('#df-5feef7d8-37c1-490f-880f-b78647b6b1fd button');\n",
              "      quickchartButtonEl.style.display =\n",
              "        google.colab.kernel.accessAllowed ? 'block' : 'none';\n",
              "    })();\n",
              "  </script>\n",
              "</div>\n",
              "\n",
              "    </div>\n",
              "  </div>\n"
            ],
            "application/vnd.google.colaboratory.intrinsic+json": {
              "type": "dataframe",
              "variable_name": "london_df",
              "summary": "{\n  \"name\": \"london_df\",\n  \"rows\": 15341,\n  \"fields\": [\n    {\n      \"column\": \"date\",\n      \"properties\": {\n        \"dtype\": \"number\",\n        \"std\": 121217,\n        \"min\": 19790101,\n        \"max\": 20201231,\n        \"num_unique_values\": 15341,\n        \"samples\": [\n          20040510,\n          19930920,\n          20130609\n        ],\n        \"semantic_type\": \"\",\n        \"description\": \"\"\n      }\n    },\n    {\n      \"column\": \"cloud_cover\",\n      \"properties\": {\n        \"dtype\": \"number\",\n        \"std\": 2.0700721035685343,\n        \"min\": 0.0,\n        \"max\": 9.0,\n        \"num_unique_values\": 10,\n        \"samples\": [\n          0.0,\n          6.0,\n          7.0\n        ],\n        \"semantic_type\": \"\",\n        \"description\": \"\"\n      }\n    },\n    {\n      \"column\": \"sunshine\",\n      \"properties\": {\n        \"dtype\": \"number\",\n        \"std\": 4.028339404679507,\n        \"min\": 0.0,\n        \"max\": 16.0,\n        \"num_unique_values\": 160,\n        \"samples\": [\n          6.6,\n          11.4,\n          13.2\n        ],\n        \"semantic_type\": \"\",\n        \"description\": \"\"\n      }\n    },\n    {\n      \"column\": \"global_radiation\",\n      \"properties\": {\n        \"dtype\": \"number\",\n        \"std\": 88.89827186362803,\n        \"min\": 8.0,\n        \"max\": 402.0,\n        \"num_unique_values\": 360,\n        \"samples\": [\n          255.0,\n          95.0,\n          322.0\n        ],\n        \"semantic_type\": \"\",\n        \"description\": \"\"\n      }\n    },\n    {\n      \"column\": \"max_temp\",\n      \"properties\": {\n        \"dtype\": \"number\",\n        \"std\": 6.554753578982714,\n        \"min\": -6.2,\n        \"max\": 37.9,\n        \"num_unique_values\": 374,\n        \"samples\": [\n          31.3,\n          0.2,\n          2.6\n        ],\n        \"semantic_type\": \"\",\n        \"description\": \"\"\n      }\n    },\n    {\n      \"column\": \"mean_temp\",\n      \"properties\": {\n        \"dtype\": \"number\",\n        \"std\": 5.729708517751972,\n        \"min\": -7.6,\n        \"max\": 29.0,\n        \"num_unique_values\": 321,\n        \"samples\": [\n          0.2,\n          15.7,\n          17.5\n        ],\n        \"semantic_type\": \"\",\n        \"description\": \"\"\n      }\n    },\n    {\n      \"column\": \"min_temp\",\n      \"properties\": {\n        \"dtype\": \"number\",\n        \"std\": 5.32675580728825,\n        \"min\": -11.8,\n        \"max\": 22.3,\n        \"num_unique_values\": 296,\n        \"samples\": [\n          18.7,\n          6.1,\n          7.3\n        ],\n        \"semantic_type\": \"\",\n        \"description\": \"\"\n      }\n    },\n    {\n      \"column\": \"precipitation\",\n      \"properties\": {\n        \"dtype\": \"number\",\n        \"std\": 3.7385400116897274,\n        \"min\": 0.0,\n        \"max\": 61.8,\n        \"num_unique_values\": 262,\n        \"samples\": [\n          23.6,\n          27.8,\n          14.0\n        ],\n        \"semantic_type\": \"\",\n        \"description\": \"\"\n      }\n    },\n    {\n      \"column\": \"pressure\",\n      \"properties\": {\n        \"dtype\": \"number\",\n        \"std\": 1049.7226043657072,\n        \"min\": 95960.0,\n        \"max\": 104820.0,\n        \"num_unique_values\": 642,\n        \"samples\": [\n          100240.0,\n          101910.0,\n          103290.0\n        ],\n        \"semantic_type\": \"\",\n        \"description\": \"\"\n      }\n    },\n    {\n      \"column\": \"snow_depth\",\n      \"properties\": {\n        \"dtype\": \"number\",\n        \"std\": 0.5456328457171917,\n        \"min\": 0.0,\n        \"max\": 22.0,\n        \"num_unique_values\": 19,\n        \"samples\": [\n          9.0,\n          0.0,\n          18.0\n        ],\n        \"semantic_type\": \"\",\n        \"description\": \"\"\n      }\n    }\n  ]\n}"
            }
          },
          "metadata": {},
          "execution_count": 21
        }
      ]
    },
    {
      "cell_type": "code",
      "source": [
        "london_df.info()"
      ],
      "metadata": {
        "colab": {
          "base_uri": "https://localhost:8080/"
        },
        "id": "KYgUDPVDZQ9V",
        "outputId": "44c56f40-445f-4bc7-8b18-d218f3794c67"
      },
      "execution_count": 22,
      "outputs": [
        {
          "output_type": "stream",
          "name": "stdout",
          "text": [
            "<class 'pandas.core.frame.DataFrame'>\n",
            "RangeIndex: 15341 entries, 0 to 15340\n",
            "Data columns (total 10 columns):\n",
            " #   Column            Non-Null Count  Dtype  \n",
            "---  ------            --------------  -----  \n",
            " 0   date              15341 non-null  int64  \n",
            " 1   cloud_cover       15322 non-null  float64\n",
            " 2   sunshine          15341 non-null  float64\n",
            " 3   global_radiation  15322 non-null  float64\n",
            " 4   max_temp          15335 non-null  float64\n",
            " 5   mean_temp         15305 non-null  float64\n",
            " 6   min_temp          15339 non-null  float64\n",
            " 7   precipitation     15335 non-null  float64\n",
            " 8   pressure          15337 non-null  float64\n",
            " 9   snow_depth        13900 non-null  float64\n",
            "dtypes: float64(9), int64(1)\n",
            "memory usage: 1.2 MB\n"
          ]
        }
      ]
    },
    {
      "cell_type": "markdown",
      "source": [
        "# **min_temp > max_temp ?**"
      ],
      "metadata": {
        "id": "ZqdZKjw1mB51"
      }
    },
    {
      "cell_type": "code",
      "source": [
        "# Check if min_temp > max_temp for each row\n",
        "rows_with_error = london_df[london_df['min_temp'] > london_df['max_temp']]\n",
        "\n",
        "# Print the rows where min_temp > max_temp\n",
        "print(rows_with_error)"
      ],
      "metadata": {
        "colab": {
          "base_uri": "https://localhost:8080/"
        },
        "id": "6ckWA6j4kt2x",
        "outputId": "cae51f85-be3b-4386-c2ac-af1f82f688f4"
      },
      "execution_count": 23,
      "outputs": [
        {
          "output_type": "stream",
          "name": "stdout",
          "text": [
            "           date  cloud_cover  sunshine  global_radiation  max_temp  mean_temp  min_temp  precipitation  pressure  snow_depth\n",
            "15     19790116          8.0       0.0              15.0       2.6        5.0       4.1            3.9  103100.0         0.0\n",
            "43     19790213          8.0       0.0              24.0       0.2        4.2       0.3            9.1   98130.0         0.0\n",
            "44     19790214          6.0       2.4              54.0      -0.8       -0.2      -0.7            0.0   99380.0         1.0\n",
            "71     19790313          8.0       0.0              42.0       3.8        4.6       4.4           20.3  100800.0         0.0\n",
            "474    19800419          4.0       8.5             217.0       9.1       12.1       9.4            0.0  101400.0         0.0\n",
            "...         ...          ...       ...               ...       ...        ...       ...            ...       ...         ...\n",
            "14581  20181203          6.0       1.5              27.0      10.4       12.2      10.8            2.8  100110.0         0.0\n",
            "14617  20190108          1.0       5.1              46.0       5.9        7.7       6.1            0.0  102810.0         0.0\n",
            "14625  20190116          7.0       0.0              15.0       5.1        8.1       6.2            5.2  100590.0         0.0\n",
            "14908  20191026          8.0       0.0              25.0      12.0       14.6      12.2            4.2  100850.0         0.0\n",
            "15336  20201227          1.0       0.9              32.0       7.5        7.5       7.6            2.0   98000.0         NaN\n",
            "\n",
            "[230 rows x 10 columns]\n"
          ]
        }
      ]
    },
    {
      "cell_type": "code",
      "source": [
        "# Inverse values of min_temp and max_temp where min_temp > max_temp\n",
        "london_df.loc[london_df['min_temp'] > london_df['max_temp'], ['min_temp', 'max_temp']] = london_df.loc[london_df['min_temp'] > london_df['max_temp'], ['max_temp', 'min_temp']].values\n",
        "\n",
        "#Verify the correction\n",
        "rows_with_error_after_correction = london_df[london_df['min_temp'] > london_df['max_temp']]\n",
        "rows_with_error_after_correction"
      ],
      "metadata": {
        "colab": {
          "base_uri": "https://localhost:8080/",
          "height": 89
        },
        "id": "tilzicMBlHD4",
        "outputId": "a258c5b5-67f8-49b5-eec0-859a869e58c4"
      },
      "execution_count": 24,
      "outputs": [
        {
          "output_type": "execute_result",
          "data": {
            "text/plain": [
              "Empty DataFrame\n",
              "Columns: [date, cloud_cover, sunshine, global_radiation, max_temp, mean_temp, min_temp, precipitation, pressure, snow_depth]\n",
              "Index: []"
            ],
            "text/html": [
              "\n",
              "  <div id=\"df-674a5f6b-e7f5-42fb-8cc4-6e89d0540545\" class=\"colab-df-container\">\n",
              "    <div>\n",
              "<style scoped>\n",
              "    .dataframe tbody tr th:only-of-type {\n",
              "        vertical-align: middle;\n",
              "    }\n",
              "\n",
              "    .dataframe tbody tr th {\n",
              "        vertical-align: top;\n",
              "    }\n",
              "\n",
              "    .dataframe thead th {\n",
              "        text-align: right;\n",
              "    }\n",
              "</style>\n",
              "<table border=\"1\" class=\"dataframe\">\n",
              "  <thead>\n",
              "    <tr style=\"text-align: right;\">\n",
              "      <th></th>\n",
              "      <th>date</th>\n",
              "      <th>cloud_cover</th>\n",
              "      <th>sunshine</th>\n",
              "      <th>global_radiation</th>\n",
              "      <th>max_temp</th>\n",
              "      <th>mean_temp</th>\n",
              "      <th>min_temp</th>\n",
              "      <th>precipitation</th>\n",
              "      <th>pressure</th>\n",
              "      <th>snow_depth</th>\n",
              "    </tr>\n",
              "  </thead>\n",
              "  <tbody>\n",
              "  </tbody>\n",
              "</table>\n",
              "</div>\n",
              "    <div class=\"colab-df-buttons\">\n",
              "\n",
              "  <div class=\"colab-df-container\">\n",
              "    <button class=\"colab-df-convert\" onclick=\"convertToInteractive('df-674a5f6b-e7f5-42fb-8cc4-6e89d0540545')\"\n",
              "            title=\"Convert this dataframe to an interactive table.\"\n",
              "            style=\"display:none;\">\n",
              "\n",
              "  <svg xmlns=\"http://www.w3.org/2000/svg\" height=\"24px\" viewBox=\"0 -960 960 960\">\n",
              "    <path d=\"M120-120v-720h720v720H120Zm60-500h600v-160H180v160Zm220 220h160v-160H400v160Zm0 220h160v-160H400v160ZM180-400h160v-160H180v160Zm440 0h160v-160H620v160ZM180-180h160v-160H180v160Zm440 0h160v-160H620v160Z\"/>\n",
              "  </svg>\n",
              "    </button>\n",
              "\n",
              "  <style>\n",
              "    .colab-df-container {\n",
              "      display:flex;\n",
              "      gap: 12px;\n",
              "    }\n",
              "\n",
              "    .colab-df-convert {\n",
              "      background-color: #E8F0FE;\n",
              "      border: none;\n",
              "      border-radius: 50%;\n",
              "      cursor: pointer;\n",
              "      display: none;\n",
              "      fill: #1967D2;\n",
              "      height: 32px;\n",
              "      padding: 0 0 0 0;\n",
              "      width: 32px;\n",
              "    }\n",
              "\n",
              "    .colab-df-convert:hover {\n",
              "      background-color: #E2EBFA;\n",
              "      box-shadow: 0px 1px 2px rgba(60, 64, 67, 0.3), 0px 1px 3px 1px rgba(60, 64, 67, 0.15);\n",
              "      fill: #174EA6;\n",
              "    }\n",
              "\n",
              "    .colab-df-buttons div {\n",
              "      margin-bottom: 4px;\n",
              "    }\n",
              "\n",
              "    [theme=dark] .colab-df-convert {\n",
              "      background-color: #3B4455;\n",
              "      fill: #D2E3FC;\n",
              "    }\n",
              "\n",
              "    [theme=dark] .colab-df-convert:hover {\n",
              "      background-color: #434B5C;\n",
              "      box-shadow: 0px 1px 3px 1px rgba(0, 0, 0, 0.15);\n",
              "      filter: drop-shadow(0px 1px 2px rgba(0, 0, 0, 0.3));\n",
              "      fill: #FFFFFF;\n",
              "    }\n",
              "  </style>\n",
              "\n",
              "    <script>\n",
              "      const buttonEl =\n",
              "        document.querySelector('#df-674a5f6b-e7f5-42fb-8cc4-6e89d0540545 button.colab-df-convert');\n",
              "      buttonEl.style.display =\n",
              "        google.colab.kernel.accessAllowed ? 'block' : 'none';\n",
              "\n",
              "      async function convertToInteractive(key) {\n",
              "        const element = document.querySelector('#df-674a5f6b-e7f5-42fb-8cc4-6e89d0540545');\n",
              "        const dataTable =\n",
              "          await google.colab.kernel.invokeFunction('convertToInteractive',\n",
              "                                                    [key], {});\n",
              "        if (!dataTable) return;\n",
              "\n",
              "        const docLinkHtml = 'Like what you see? Visit the ' +\n",
              "          '<a target=\"_blank\" href=https://colab.research.google.com/notebooks/data_table.ipynb>data table notebook</a>'\n",
              "          + ' to learn more about interactive tables.';\n",
              "        element.innerHTML = '';\n",
              "        dataTable['output_type'] = 'display_data';\n",
              "        await google.colab.output.renderOutput(dataTable, element);\n",
              "        const docLink = document.createElement('div');\n",
              "        docLink.innerHTML = docLinkHtml;\n",
              "        element.appendChild(docLink);\n",
              "      }\n",
              "    </script>\n",
              "  </div>\n",
              "\n",
              "\n",
              "  <div id=\"id_f8cf4f94-acc0-46f9-93ce-655111d2c2ad\">\n",
              "    <style>\n",
              "      .colab-df-generate {\n",
              "        background-color: #E8F0FE;\n",
              "        border: none;\n",
              "        border-radius: 50%;\n",
              "        cursor: pointer;\n",
              "        display: none;\n",
              "        fill: #1967D2;\n",
              "        height: 32px;\n",
              "        padding: 0 0 0 0;\n",
              "        width: 32px;\n",
              "      }\n",
              "\n",
              "      .colab-df-generate:hover {\n",
              "        background-color: #E2EBFA;\n",
              "        box-shadow: 0px 1px 2px rgba(60, 64, 67, 0.3), 0px 1px 3px 1px rgba(60, 64, 67, 0.15);\n",
              "        fill: #174EA6;\n",
              "      }\n",
              "\n",
              "      [theme=dark] .colab-df-generate {\n",
              "        background-color: #3B4455;\n",
              "        fill: #D2E3FC;\n",
              "      }\n",
              "\n",
              "      [theme=dark] .colab-df-generate:hover {\n",
              "        background-color: #434B5C;\n",
              "        box-shadow: 0px 1px 3px 1px rgba(0, 0, 0, 0.15);\n",
              "        filter: drop-shadow(0px 1px 2px rgba(0, 0, 0, 0.3));\n",
              "        fill: #FFFFFF;\n",
              "      }\n",
              "    </style>\n",
              "    <button class=\"colab-df-generate\" onclick=\"generateWithVariable('rows_with_error_after_correction')\"\n",
              "            title=\"Generate code using this dataframe.\"\n",
              "            style=\"display:none;\">\n",
              "\n",
              "  <svg xmlns=\"http://www.w3.org/2000/svg\" height=\"24px\"viewBox=\"0 0 24 24\"\n",
              "       width=\"24px\">\n",
              "    <path d=\"M7,19H8.4L18.45,9,17,7.55,7,17.6ZM5,21V16.75L18.45,3.32a2,2,0,0,1,2.83,0l1.4,1.43a1.91,1.91,0,0,1,.58,1.4,1.91,1.91,0,0,1-.58,1.4L9.25,21ZM18.45,9,17,7.55Zm-12,3A5.31,5.31,0,0,0,4.9,8.1,5.31,5.31,0,0,0,1,6.5,5.31,5.31,0,0,0,4.9,4.9,5.31,5.31,0,0,0,6.5,1,5.31,5.31,0,0,0,8.1,4.9,5.31,5.31,0,0,0,12,6.5,5.46,5.46,0,0,0,6.5,12Z\"/>\n",
              "  </svg>\n",
              "    </button>\n",
              "    <script>\n",
              "      (() => {\n",
              "      const buttonEl =\n",
              "        document.querySelector('#id_f8cf4f94-acc0-46f9-93ce-655111d2c2ad button.colab-df-generate');\n",
              "      buttonEl.style.display =\n",
              "        google.colab.kernel.accessAllowed ? 'block' : 'none';\n",
              "\n",
              "      buttonEl.onclick = () => {\n",
              "        google.colab.notebook.generateWithVariable('rows_with_error_after_correction');\n",
              "      }\n",
              "      })();\n",
              "    </script>\n",
              "  </div>\n",
              "\n",
              "    </div>\n",
              "  </div>\n"
            ],
            "application/vnd.google.colaboratory.intrinsic+json": {
              "type": "dataframe",
              "variable_name": "rows_with_error_after_correction",
              "summary": "{\n  \"name\": \"rows_with_error_after_correction\",\n  \"rows\": 0,\n  \"fields\": [\n    {\n      \"column\": \"date\",\n      \"properties\": {\n        \"dtype\": \"number\",\n        \"std\": null,\n        \"min\": null,\n        \"max\": null,\n        \"num_unique_values\": 0,\n        \"samples\": [],\n        \"semantic_type\": \"\",\n        \"description\": \"\"\n      }\n    },\n    {\n      \"column\": \"cloud_cover\",\n      \"properties\": {\n        \"dtype\": \"number\",\n        \"std\": null,\n        \"min\": null,\n        \"max\": null,\n        \"num_unique_values\": 0,\n        \"samples\": [],\n        \"semantic_type\": \"\",\n        \"description\": \"\"\n      }\n    },\n    {\n      \"column\": \"sunshine\",\n      \"properties\": {\n        \"dtype\": \"number\",\n        \"std\": null,\n        \"min\": null,\n        \"max\": null,\n        \"num_unique_values\": 0,\n        \"samples\": [],\n        \"semantic_type\": \"\",\n        \"description\": \"\"\n      }\n    },\n    {\n      \"column\": \"global_radiation\",\n      \"properties\": {\n        \"dtype\": \"number\",\n        \"std\": null,\n        \"min\": null,\n        \"max\": null,\n        \"num_unique_values\": 0,\n        \"samples\": [],\n        \"semantic_type\": \"\",\n        \"description\": \"\"\n      }\n    },\n    {\n      \"column\": \"max_temp\",\n      \"properties\": {\n        \"dtype\": \"number\",\n        \"std\": null,\n        \"min\": null,\n        \"max\": null,\n        \"num_unique_values\": 0,\n        \"samples\": [],\n        \"semantic_type\": \"\",\n        \"description\": \"\"\n      }\n    },\n    {\n      \"column\": \"mean_temp\",\n      \"properties\": {\n        \"dtype\": \"number\",\n        \"std\": null,\n        \"min\": null,\n        \"max\": null,\n        \"num_unique_values\": 0,\n        \"samples\": [],\n        \"semantic_type\": \"\",\n        \"description\": \"\"\n      }\n    },\n    {\n      \"column\": \"min_temp\",\n      \"properties\": {\n        \"dtype\": \"number\",\n        \"std\": null,\n        \"min\": null,\n        \"max\": null,\n        \"num_unique_values\": 0,\n        \"samples\": [],\n        \"semantic_type\": \"\",\n        \"description\": \"\"\n      }\n    },\n    {\n      \"column\": \"precipitation\",\n      \"properties\": {\n        \"dtype\": \"number\",\n        \"std\": null,\n        \"min\": null,\n        \"max\": null,\n        \"num_unique_values\": 0,\n        \"samples\": [],\n        \"semantic_type\": \"\",\n        \"description\": \"\"\n      }\n    },\n    {\n      \"column\": \"pressure\",\n      \"properties\": {\n        \"dtype\": \"number\",\n        \"std\": null,\n        \"min\": null,\n        \"max\": null,\n        \"num_unique_values\": 0,\n        \"samples\": [],\n        \"semantic_type\": \"\",\n        \"description\": \"\"\n      }\n    },\n    {\n      \"column\": \"snow_depth\",\n      \"properties\": {\n        \"dtype\": \"number\",\n        \"std\": null,\n        \"min\": null,\n        \"max\": null,\n        \"num_unique_values\": 0,\n        \"samples\": [],\n        \"semantic_type\": \"\",\n        \"description\": \"\"\n      }\n    }\n  ]\n}"
            }
          },
          "metadata": {},
          "execution_count": 24
        }
      ]
    },
    {
      "cell_type": "markdown",
      "source": [
        "# **Missing Values ?**"
      ],
      "metadata": {
        "id": "uPbmf_BfZcor"
      }
    },
    {
      "cell_type": "code",
      "source": [
        "# Count null values in each column\n",
        "print(\"Number of missing values per column:\")\n",
        "null_counts = london_df.isnull().sum()\n",
        "null_counts"
      ],
      "metadata": {
        "colab": {
          "base_uri": "https://localhost:8080/",
          "height": 415
        },
        "id": "CLQ5D_5EZTGl",
        "outputId": "68871941-7043-49fc-f7f6-e7423ee82f12"
      },
      "execution_count": 25,
      "outputs": [
        {
          "output_type": "stream",
          "name": "stdout",
          "text": [
            "Number of missing values per column:\n"
          ]
        },
        {
          "output_type": "execute_result",
          "data": {
            "text/plain": [
              "date                   0\n",
              "cloud_cover           19\n",
              "sunshine               0\n",
              "global_radiation      19\n",
              "max_temp               6\n",
              "mean_temp             36\n",
              "min_temp               2\n",
              "precipitation          6\n",
              "pressure               4\n",
              "snow_depth          1441\n",
              "dtype: int64"
            ],
            "text/html": [
              "<div>\n",
              "<style scoped>\n",
              "    .dataframe tbody tr th:only-of-type {\n",
              "        vertical-align: middle;\n",
              "    }\n",
              "\n",
              "    .dataframe tbody tr th {\n",
              "        vertical-align: top;\n",
              "    }\n",
              "\n",
              "    .dataframe thead th {\n",
              "        text-align: right;\n",
              "    }\n",
              "</style>\n",
              "<table border=\"1\" class=\"dataframe\">\n",
              "  <thead>\n",
              "    <tr style=\"text-align: right;\">\n",
              "      <th></th>\n",
              "      <th>0</th>\n",
              "    </tr>\n",
              "  </thead>\n",
              "  <tbody>\n",
              "    <tr>\n",
              "      <th>date</th>\n",
              "      <td>0</td>\n",
              "    </tr>\n",
              "    <tr>\n",
              "      <th>cloud_cover</th>\n",
              "      <td>19</td>\n",
              "    </tr>\n",
              "    <tr>\n",
              "      <th>sunshine</th>\n",
              "      <td>0</td>\n",
              "    </tr>\n",
              "    <tr>\n",
              "      <th>global_radiation</th>\n",
              "      <td>19</td>\n",
              "    </tr>\n",
              "    <tr>\n",
              "      <th>max_temp</th>\n",
              "      <td>6</td>\n",
              "    </tr>\n",
              "    <tr>\n",
              "      <th>mean_temp</th>\n",
              "      <td>36</td>\n",
              "    </tr>\n",
              "    <tr>\n",
              "      <th>min_temp</th>\n",
              "      <td>2</td>\n",
              "    </tr>\n",
              "    <tr>\n",
              "      <th>precipitation</th>\n",
              "      <td>6</td>\n",
              "    </tr>\n",
              "    <tr>\n",
              "      <th>pressure</th>\n",
              "      <td>4</td>\n",
              "    </tr>\n",
              "    <tr>\n",
              "      <th>snow_depth</th>\n",
              "      <td>1441</td>\n",
              "    </tr>\n",
              "  </tbody>\n",
              "</table>\n",
              "</div><br><label><b>dtype:</b> int64</label>"
            ]
          },
          "metadata": {},
          "execution_count": 25
        }
      ]
    },
    {
      "cell_type": "markdown",
      "source": [
        "`Suppression des valeurs manquantes pour les colonnes spécifiées ('max_temp', 'min_temp', 'precipitation', 'pressure') car leur nombre est faible et ne devrait pas entraîner d'anomalies.`\n"
      ],
      "metadata": {
        "id": "xVUL60PSzLXy"
      }
    },
    {
      "cell_type": "code",
      "source": [
        "import pandas as pd    # to handle the dataframe\n",
        "import numpy as np     # to handle numbers and ndarray\n",
        "import missingno as msno #to visualize missing data and get a quick visual summary of the completeness of the data\n",
        "\n",
        "pd.set_option('expand_frame_repr', False) #to avoid the multi-lines formatting of the dataframe\n",
        "\n",
        "# Supprimer les valeurs manquantes pour les colonnes spécifiées('max_temp', 'min_temp', 'precipitation', 'pressure')\n",
        "london_df.dropna(subset=['max_temp', 'min_temp', 'precipitation', 'pressure'], inplace=True)\n",
        "\n",
        "print('Number of missing values per column after dropping NaN:')\n",
        "for colm in london_df.columns:\n",
        "  n_mv=london_df[colm].isnull().sum()\n",
        "  print(f'{colm}: {n_mv}')"
      ],
      "metadata": {
        "colab": {
          "base_uri": "https://localhost:8080/"
        },
        "id": "0gNoPKZHuDcT",
        "outputId": "01ebae9a-17fa-4828-c1b2-34653bdeebc2"
      },
      "execution_count": 26,
      "outputs": [
        {
          "output_type": "stream",
          "name": "stdout",
          "text": [
            "Number of missing values per column after dropping NaN:\n",
            "date: 0\n",
            "cloud_cover: 19\n",
            "sunshine: 0\n",
            "global_radiation: 19\n",
            "max_temp: 0\n",
            "mean_temp: 29\n",
            "min_temp: 0\n",
            "precipitation: 0\n",
            "pressure: 0\n",
            "snow_depth: 1429\n"
          ]
        }
      ]
    },
    {
      "cell_type": "markdown",
      "source": [
        "`Utilisation de modèle de régression linéaire pour l'imputation des valeurs manquantes dans \"global_radiation\"`"
      ],
      "metadata": {
        "id": "ikbwfieB0Ml5"
      }
    },
    {
      "cell_type": "code",
      "source": [
        "from sklearn.linear_model import LinearRegression\n",
        "\n",
        "# Create a linear regression model\n",
        "model = LinearRegression()\n",
        "\n",
        "# Prepare the data for the model:\n",
        "# Features (X): sunshine\n",
        "# Target (y): global_radiation\n",
        "# Drop rows with missing values in either 'global_radiation' or 'sunshine'\n",
        "df_regression = london_df.dropna(subset=['global_radiation', 'sunshine'])\n",
        "X = df_regression[['sunshine']]\n",
        "y = df_regression['global_radiation']\n",
        "\n",
        "# Fit the model\n",
        "model.fit(X, y)\n",
        "\n",
        "# Predict global radiation for rows with missing values in 'global_radiation'\n",
        "missing_global_radiation_rows = london_df[london_df['global_radiation'].isnull()]\n",
        "missing_global_radiation_values = model.predict(missing_global_radiation_rows[['sunshine']])\n",
        "\n",
        "# Fill in the missing global_radiation values\n",
        "london_df.loc[london_df['global_radiation'].isnull(), 'global_radiation'] = missing_global_radiation_values\n",
        "\n",
        "#Verify the result\n",
        "print('Number of missing values per column after filling NaN:')\n",
        "for colm in london_df.columns:\n",
        "  n_mv=london_df[colm].isnull().sum()\n",
        "  print(f'{colm}: {n_mv}')"
      ],
      "metadata": {
        "colab": {
          "base_uri": "https://localhost:8080/"
        },
        "id": "oGSBqIbMwy29",
        "outputId": "43c7dc17-e1d8-4351-dd28-036bbf15fc0e"
      },
      "execution_count": 27,
      "outputs": [
        {
          "output_type": "stream",
          "name": "stdout",
          "text": [
            "Number of missing values per column after filling NaN:\n",
            "date: 0\n",
            "cloud_cover: 19\n",
            "sunshine: 0\n",
            "global_radiation: 0\n",
            "max_temp: 0\n",
            "mean_temp: 29\n",
            "min_temp: 0\n",
            "precipitation: 0\n",
            "pressure: 0\n",
            "snow_depth: 1429\n"
          ]
        }
      ]
    },
    {
      "cell_type": "markdown",
      "source": [
        "`Utilisation d'un modèle ensembliste \"Random_Forest\" pour l'imputation des valeurs manquantes dans \"snow_depth\"`"
      ],
      "metadata": {
        "id": "r3jP9Pjr0c0G"
      }
    },
    {
      "cell_type": "code",
      "source": [
        "import pandas as pd\n",
        "import numpy as np\n",
        "from sklearn.ensemble import RandomForestRegressor\n",
        "\n",
        "# Prepare data for Random Forest\n",
        "# Features (X): Use relevant columns for prediction (excluding 'snow_depth')\n",
        "# Target (y): 'snow_depth' for rows where it's available\n",
        "df_rf = london_df.dropna(subset=['snow_depth'])  # Rows with known snow depth\n",
        "X_rf = df_rf.drop(columns=['snow_depth'])\n",
        "y_rf = df_rf['snow_depth']\n",
        "\n",
        "# Initialize and train the Random Forest model\n",
        "rf_model = RandomForestRegressor(n_estimators=100, random_state=42)  # Adjust parameters as needed\n",
        "rf_model.fit(X_rf, y_rf)\n",
        "\n",
        "# Predict 'snow_depth' for rows with missing values\n",
        "missing_snow_depth_rows = london_df[london_df['snow_depth'].isnull()]\n",
        "X_missing = missing_snow_depth_rows.drop(columns=['snow_depth'])\n",
        "\n",
        "if not X_missing.empty:  #Check if there are actually missing values to predict\n",
        "    predicted_snow_depth = rf_model.predict(X_missing)\n",
        "    london_df.loc[london_df['snow_depth'].isnull(), 'snow_depth'] = predicted_snow_depth\n",
        "else:\n",
        "    print(\"No missing values to predict for snow_depth.\")\n",
        "\n",
        "# Verify the result\n",
        "print('Number of missing values per column after filling NaN using Random Forest:')\n",
        "for colm in london_df.columns:\n",
        "    n_mv = london_df[colm].isnull().sum()\n",
        "    print(f'{colm}: {n_mv}')"
      ],
      "metadata": {
        "id": "6AUQWu_2xgnl",
        "colab": {
          "base_uri": "https://localhost:8080/"
        },
        "outputId": "29cb6394-cddb-42d5-d3f1-07c8233a1f5e"
      },
      "execution_count": 28,
      "outputs": [
        {
          "output_type": "stream",
          "name": "stdout",
          "text": [
            "Number of missing values per column after filling NaN using Random Forest:\n",
            "date: 0\n",
            "cloud_cover: 19\n",
            "sunshine: 0\n",
            "global_radiation: 0\n",
            "max_temp: 0\n",
            "mean_temp: 29\n",
            "min_temp: 0\n",
            "precipitation: 0\n",
            "pressure: 0\n",
            "snow_depth: 0\n"
          ]
        }
      ]
    },
    {
      "cell_type": "code",
      "source": [
        "# Display rows where 'snow_depth' is null\n",
        "print(london_df[london_df['snow_depth'].isnull()])"
      ],
      "metadata": {
        "id": "6Ie_-J9zkeSL",
        "colab": {
          "base_uri": "https://localhost:8080/"
        },
        "outputId": "5cf23f6c-f150-4627-ffce-d83380a17e0e"
      },
      "execution_count": 29,
      "outputs": [
        {
          "output_type": "stream",
          "name": "stdout",
          "text": [
            "Empty DataFrame\n",
            "Columns: [date, cloud_cover, sunshine, global_radiation, max_temp, mean_temp, min_temp, precipitation, pressure, snow_depth]\n",
            "Index: []\n"
          ]
        }
      ]
    },
    {
      "cell_type": "markdown",
      "source": [
        "`Calculer la moyenne des temp pour l'imputation des valeurs manquantes dans \"mean_temp\"`"
      ],
      "metadata": {
        "id": "5fSC11py04DF"
      }
    },
    {
      "cell_type": "code",
      "source": [
        "# Fill missing 'mean_temp' values with (min_temp + max_temp) / 2\n",
        "london_df['mean_temp'].fillna((london_df['min_temp'] + london_df['max_temp']) / 2, inplace=True)\n",
        "\n",
        "# Verify the result\n",
        "print('Number of missing values per column after filling mean_temp:')\n",
        "for colm in london_df.columns:\n",
        "    n_mv = london_df[colm].isnull().sum()\n",
        "    print(f'{colm}: {n_mv}')"
      ],
      "metadata": {
        "id": "ecBfz14zyWOj",
        "colab": {
          "base_uri": "https://localhost:8080/"
        },
        "outputId": "cabe13d9-fe08-44c4-d503-424406495beb"
      },
      "execution_count": 30,
      "outputs": [
        {
          "output_type": "stream",
          "name": "stdout",
          "text": [
            "Number of missing values per column after filling mean_temp:\n",
            "date: 0\n",
            "cloud_cover: 19\n",
            "sunshine: 0\n",
            "global_radiation: 0\n",
            "max_temp: 0\n",
            "mean_temp: 0\n",
            "min_temp: 0\n",
            "precipitation: 0\n",
            "pressure: 0\n",
            "snow_depth: 0\n"
          ]
        },
        {
          "output_type": "stream",
          "name": "stderr",
          "text": [
            "<ipython-input-30-5ddf517f3552>:2: FutureWarning: A value is trying to be set on a copy of a DataFrame or Series through chained assignment using an inplace method.\n",
            "The behavior will change in pandas 3.0. This inplace method will never work because the intermediate object on which we are setting values always behaves as a copy.\n",
            "\n",
            "For example, when doing 'df[col].method(value, inplace=True)', try using 'df.method({col: value}, inplace=True)' or df[col] = df[col].method(value) instead, to perform the operation inplace on the original object.\n",
            "\n",
            "\n",
            "  london_df['mean_temp'].fillna((london_df['min_temp'] + london_df['max_temp']) / 2, inplace=True)\n"
          ]
        }
      ]
    },
    {
      "cell_type": "markdown",
      "source": [
        "`Imputation des valeurs manquantes dans \"cloud_cover\"`"
      ],
      "metadata": {
        "id": "1xB2gyUl1Cny"
      }
    },
    {
      "cell_type": "code",
      "source": [
        "# Display rows where 'cloud_cover' is null\n",
        "print(london_df[london_df['cloud_cover'].isnull()])"
      ],
      "metadata": {
        "id": "baMunD-inQJY",
        "colab": {
          "base_uri": "https://localhost:8080/"
        },
        "outputId": "bc190fff-3e02-47ac-b27e-fca8a9ffe0cf"
      },
      "execution_count": 31,
      "outputs": [
        {
          "output_type": "stream",
          "name": "stdout",
          "text": [
            "           date  cloud_cover  sunshine  global_radiation  max_temp  mean_temp  min_temp  precipitation  pressure  snow_depth\n",
            "14     19790115          NaN       0.0              15.0       5.9        3.8       1.0            0.1  102990.0         0.0\n",
            "20     19790121          NaN       0.0              16.0       1.5        0.0      -3.5            0.1  102170.0         0.0\n",
            "37     19790207          NaN       0.0              21.0       3.7        3.3      -0.2            0.4   99450.0         0.0\n",
            "50     19790220          NaN       0.0              27.0       3.6        1.6       0.3            0.0  103010.0         0.0\n",
            "56     19790226          NaN       4.2              82.0       8.9        1.6      -3.4            0.0  103590.0         0.0\n",
            "250    19790908          NaN       5.9             153.0      21.8       17.9      11.5            0.0  101870.0         0.0\n",
            "287    19791015          NaN       2.7              71.0      16.0       12.4       7.0            0.0   99970.0         0.0\n",
            "320    19791117          NaN       0.0              17.0      10.0        4.8       1.2            0.9  100840.0         0.0\n",
            "323    19791120          NaN       0.0              17.0       6.4        3.4       0.5            0.0  102950.0         0.0\n",
            "324    19791121          NaN       0.0              16.0      10.2        3.0      -0.4            0.2  103390.0         0.0\n",
            "1074   19811210          NaN       0.0              12.0       0.7       -1.9      -3.7            8.2  100230.0         4.0\n",
            "2188   19841228          NaN       0.3              16.0       5.7        1.7       0.4            0.0  103290.0         0.0\n",
            "3254   19871129          NaN       0.0              15.0       6.5        0.3      -2.8            0.0  102480.0         0.0\n",
            "3970   19891114          NaN       0.0              18.0      11.5        7.8       6.0            0.0  102950.0         0.0\n",
            "10217  20061222          NaN       0.0              12.0       2.3       -0.2      -2.8            0.2  104380.0         0.0\n",
            "10583  20071223          NaN       0.0              12.0       8.0        3.2      -1.6            0.2  102820.0         0.0\n",
            "12011  20111120          NaN       0.0              17.0      11.5        5.3       2.2            0.2  101890.0         0.0\n",
            "12114  20120302          NaN       3.4              88.0      15.0        7.5       3.2            0.0  102560.0         0.0\n",
            "15335  20201226          NaN       2.1              38.0      10.0        4.9      -0.1           12.0  101960.0         0.0\n"
          ]
        }
      ]
    },
    {
      "cell_type": "code",
      "source": [
        "# Fill missing 'cloud_cover' values\n",
        "cloud_cover_max = london_df['cloud_cover'].max()\n",
        "cloud_cover_mean = london_df['cloud_cover'].mean()\n",
        "print(cloud_cover_max)\n",
        "print(cloud_cover_mean)\n",
        "\n",
        "\n",
        "london_df['cloud_cover'] = np.where(london_df['sunshine'] == 0.0,\n",
        "                                    london_df['cloud_cover'].fillna(cloud_cover_max),\n",
        "                                    london_df['cloud_cover'].fillna(cloud_cover_mean))\n",
        "# Display rows where 'cloud_cover' is null\n",
        "print(london_df[london_df['cloud_cover'].isnull()])"
      ],
      "metadata": {
        "id": "KvfQ-fLipT2d",
        "colab": {
          "base_uri": "https://localhost:8080/"
        },
        "outputId": "2f3982b0-7b27-476e-cc75-7efc29f4c18c"
      },
      "execution_count": 32,
      "outputs": [
        {
          "output_type": "stream",
          "name": "stdout",
          "text": [
            "9.0\n",
            "5.268404206675812\n",
            "Empty DataFrame\n",
            "Columns: [date, cloud_cover, sunshine, global_radiation, max_temp, mean_temp, min_temp, precipitation, pressure, snow_depth]\n",
            "Index: []\n"
          ]
        }
      ]
    },
    {
      "cell_type": "markdown",
      "source": [
        "La raison pour laquelle snow_depth montre des valeurs manquantes massives est probablement liée à l'absence de données pour cette variable dans une grande partie de l'ensemble de données. Cela pourrait être dû au fait que la profondeur de la neige n'est pas mesurée tous les jours ou qu'elle n'est pas applicable dans certaines situations météorologiques."
      ],
      "metadata": {
        "id": "BTHB9oYzb256"
      }
    },
    {
      "cell_type": "markdown",
      "source": [
        "## Correlation Heatmap"
      ],
      "metadata": {
        "id": "JpUDhHN61N_s"
      }
    },
    {
      "cell_type": "code",
      "source": [
        "import matplotlib.pyplot as plt\n",
        "import seaborn as sns\n",
        "\n",
        "# heatmap (replace with your desired columns)\n",
        "plt.figure(figsize=(10, 8))\n",
        "sns.heatmap(london_df[[ 'date', 'cloud_cover', 'sunshine', 'global_radiation', 'max_temp', 'min_temp', 'precipitation', 'pressure', 'snow_depth']].corr(), annot=True, cmap='coolwarm')\n",
        "plt.title('Correlation Heatmap of Weather Variables')\n",
        "plt.show()"
      ],
      "metadata": {
        "id": "Wr30Qd6lvX1i",
        "colab": {
          "base_uri": "https://localhost:8080/",
          "height": 797
        },
        "outputId": "06459b8b-96d3-41e2-d279-e5d79060740a"
      },
      "execution_count": 33,
      "outputs": [
        {
          "output_type": "display_data",
          "data": {
            "text/plain": [
              "<Figure size 1000x800 with 2 Axes>"
            ],
            "image/png": "[encoded data removed]"
          },
          "metadata": {}
        }
      ]
    },
    {
      "cell_type": "code",
      "source": [
        "pip install mlflow\n"
      ],
      "metadata": {
        "colab": {
          "base_uri": "https://localhost:8080/"
        },
        "id": "znijsFYFAxCj",
        "outputId": "2ac46e17-45bf-4169-d377-43febc0fe977"
      },
      "execution_count": 34,
      "outputs": [
        {
          "output_type": "stream",
          "name": "stdout",
          "text": [
            "Requirement already satisfied: mlflow in /usr/local/lib/python3.10/dist-packages (2.18.0)\n",
            "Requirement already satisfied: mlflow-skinny==2.18.0 in /usr/local/lib/python3.10/dist-packages (from mlflow) (2.18.0)\n",
            "Requirement already satisfied: Flask<4 in /usr/local/lib/python3.10/dist-packages (from mlflow) (3.0.3)\n",
            "Requirement already satisfied: alembic!=1.10.0,<2 in /usr/local/lib/python3.10/dist-packages (from mlflow) (1.14.0)\n",
            "Requirement already satisfied: docker<8,>=4.0.0 in /usr/local/lib/python3.10/dist-packages (from mlflow) (7.1.0)\n",
            "Requirement already satisfied: graphene<4 in /usr/local/lib/python3.10/dist-packages (from mlflow) (3.4.3)\n",
            "Requirement already satisfied: markdown<4,>=3.3 in /usr/local/lib/python3.10/dist-packages (from mlflow) (3.7)\n",
            "Requirement already satisfied: matplotlib<4 in /usr/local/lib/python3.10/dist-packages (from mlflow) (3.8.0)\n",
            "Requirement already satisfied: numpy<3 in /usr/local/lib/python3.10/dist-packages (from mlflow) (1.26.4)\n",
            "Requirement already satisfied: pandas<3 in /usr/local/lib/python3.10/dist-packages (from mlflow) (2.2.2)\n",
            "Requirement already satisfied: pyarrow<19,>=4.0.0 in /usr/local/lib/python3.10/dist-packages (from mlflow) (17.0.0)\n",
            "Requirement already satisfied: scikit-learn<2 in /usr/local/lib/python3.10/dist-packages (from mlflow) (1.5.2)\n",
            "Requirement already satisfied: scipy<2 in /usr/local/lib/python3.10/dist-packages (from mlflow) (1.13.1)\n",
            "Requirement already satisfied: sqlalchemy<3,>=1.4.0 in /usr/local/lib/python3.10/dist-packages (from mlflow) (2.0.36)\n",
            "Requirement already satisfied: Jinja2<4,>=2.11 in /usr/local/lib/python3.10/dist-packages (from mlflow) (3.1.4)\n",
            "Requirement already satisfied: gunicorn<24 in /usr/local/lib/python3.10/dist-packages (from mlflow) (23.0.0)\n",
            "Requirement already satisfied: cachetools<6,>=5.0.0 in /usr/local/lib/python3.10/dist-packages (from mlflow-skinny==2.18.0->mlflow) (5.5.0)\n",
            "Requirement already satisfied: click<9,>=7.0 in /usr/local/lib/python3.10/dist-packages (from mlflow-skinny==2.18.0->mlflow) (8.1.7)\n",
            "Requirement already satisfied: cloudpickle<4 in /usr/local/lib/python3.10/dist-packages (from mlflow-skinny==2.18.0->mlflow) (3.1.0)\n",
            "Requirement already satisfied: databricks-sdk<1,>=0.20.0 in /usr/local/lib/python3.10/dist-packages (from mlflow-skinny==2.18.0->mlflow) (0.38.0)\n",
            "Requirement already satisfied: gitpython<4,>=3.1.9 in /usr/local/lib/python3.10/dist-packages (from mlflow-skinny==2.18.0->mlflow) (3.1.43)\n",
            "Requirement already satisfied: importlib-metadata!=4.7.0,<9,>=3.7.0 in /usr/local/lib/python3.10/dist-packages (from mlflow-skinny==2.18.0->mlflow) (8.5.0)\n",
            "Requirement already satisfied: opentelemetry-api<3,>=1.9.0 in /usr/local/lib/python3.10/dist-packages (from mlflow-skinny==2.18.0->mlflow) (1.28.2)\n",
            "Requirement already satisfied: opentelemetry-sdk<3,>=1.9.0 in /usr/local/lib/python3.10/dist-packages (from mlflow-skinny==2.18.0->mlflow) (1.28.2)\n",
            "Requirement already satisfied: packaging<25 in /usr/local/lib/python3.10/dist-packages (from mlflow-skinny==2.18.0->mlflow) (24.2)\n",
            "Requirement already satisfied: protobuf<6,>=3.12.0 in /usr/local/lib/python3.10/dist-packages (from mlflow-skinny==2.18.0->mlflow) (4.25.5)\n",
            "Requirement already satisfied: pyyaml<7,>=5.1 in /usr/local/lib/python3.10/dist-packages (from mlflow-skinny==2.18.0->mlflow) (6.0.2)\n",
            "Requirement already satisfied: requests<3,>=2.17.3 in /usr/local/lib/python3.10/dist-packages (from mlflow-skinny==2.18.0->mlflow) (2.32.3)\n",
            "Requirement already satisfied: sqlparse<1,>=0.4.0 in /usr/local/lib/python3.10/dist-packages (from mlflow-skinny==2.18.0->mlflow) (0.5.2)\n",
            "Requirement already satisfied: Mako in /usr/local/lib/python3.10/dist-packages (from alembic!=1.10.0,<2->mlflow) (1.3.7)\n",
            "Requirement already satisfied: typing-extensions>=4 in /usr/local/lib/python3.10/dist-packages (from alembic!=1.10.0,<2->mlflow) (4.12.2)\n",
            "Requirement already satisfied: urllib3>=1.26.0 in /usr/local/lib/python3.10/dist-packages (from docker<8,>=4.0.0->mlflow) (2.2.3)\n",
            "Requirement already satisfied: Werkzeug>=3.0.0 in /usr/local/lib/python3.10/dist-packages (from Flask<4->mlflow) (3.1.3)\n",
            "Requirement already satisfied: itsdangerous>=2.1.2 in /usr/local/lib/python3.10/dist-packages (from Flask<4->mlflow) (2.2.0)\n",
            "Requirement already satisfied: blinker>=1.6.2 in /usr/local/lib/python3.10/dist-packages (from Flask<4->mlflow) (1.9.0)\n",
            "Requirement already satisfied: graphql-core<3.3,>=3.1 in /usr/local/lib/python3.10/dist-packages (from graphene<4->mlflow) (3.2.5)\n",
            "Requirement already satisfied: graphql-relay<3.3,>=3.1 in /usr/local/lib/python3.10/dist-packages (from graphene<4->mlflow) (3.2.0)\n",
            "Requirement already satisfied: python-dateutil<3,>=2.7.0 in /usr/local/lib/python3.10/dist-packages (from graphene<4->mlflow) (2.8.2)\n",
            "Requirement already satisfied: MarkupSafe>=2.0 in /usr/local/lib/python3.10/dist-packages (from Jinja2<4,>=2.11->mlflow) (3.0.2)\n",
            "Requirement already satisfied: contourpy>=1.0.1 in /usr/local/lib/python3.10/dist-packages (from matplotlib<4->mlflow) (1.3.1)\n",
            "Requirement already satisfied: cycler>=0.10 in /usr/local/lib/python3.10/dist-packages (from matplotlib<4->mlflow) (0.12.1)\n",
            "Requirement already satisfied: fonttools>=4.22.0 in /usr/local/lib/python3.10/dist-packages (from matplotlib<4->mlflow) (4.55.1)\n",
            "Requirement already satisfied: kiwisolver>=1.0.1 in /usr/local/lib/python3.10/dist-packages (from matplotlib<4->mlflow) (1.4.7)\n",
            "Requirement already satisfied: pillow>=6.2.0 in /usr/local/lib/python3.10/dist-packages (from matplotlib<4->mlflow) (11.0.0)\n",
            "Requirement already satisfied: pyparsing>=2.3.1 in /usr/local/lib/python3.10/dist-packages (from matplotlib<4->mlflow) (3.2.0)\n",
            "Requirement already satisfied: pytz>=2020.1 in /usr/local/lib/python3.10/dist-packages (from pandas<3->mlflow) (2024.2)\n",
            "Requirement already satisfied: tzdata>=2022.7 in /usr/local/lib/python3.10/dist-packages (from pandas<3->mlflow) (2024.2)\n",
            "Requirement already satisfied: joblib>=1.2.0 in /usr/local/lib/python3.10/dist-packages (from scikit-learn<2->mlflow) (1.4.2)\n",
            "Requirement already satisfied: threadpoolctl>=3.1.0 in /usr/local/lib/python3.10/dist-packages (from scikit-learn<2->mlflow) (3.5.0)\n",
            "Requirement already satisfied: greenlet!=0.4.17 in /usr/local/lib/python3.10/dist-packages (from sqlalchemy<3,>=1.4.0->mlflow) (3.1.1)\n",
            "Requirement already satisfied: google-auth~=2.0 in /usr/local/lib/python3.10/dist-packages (from databricks-sdk<1,>=0.20.0->mlflow-skinny==2.18.0->mlflow) (2.27.0)\n",
            "Requirement already satisfied: gitdb<5,>=4.0.1 in /usr/local/lib/python3.10/dist-packages (from gitpython<4,>=3.1.9->mlflow-skinny==2.18.0->mlflow) (4.0.11)\n",
            "Requirement already satisfied: zipp>=3.20 in /usr/local/lib/python3.10/dist-packages (from importlib-metadata!=4.7.0,<9,>=3.7.0->mlflow-skinny==2.18.0->mlflow) (3.21.0)\n",
            "Requirement already satisfied: deprecated>=1.2.6 in /usr/local/lib/python3.10/dist-packages (from opentelemetry-api<3,>=1.9.0->mlflow-skinny==2.18.0->mlflow) (1.2.15)\n",
            "Requirement already satisfied: opentelemetry-semantic-conventions==0.49b2 in /usr/local/lib/python3.10/dist-packages (from opentelemetry-sdk<3,>=1.9.0->mlflow-skinny==2.18.0->mlflow) (0.49b2)\n",
            "Requirement already satisfied: six>=1.5 in /usr/local/lib/python3.10/dist-packages (from python-dateutil<3,>=2.7.0->graphene<4->mlflow) (1.16.0)\n",
            "Requirement already satisfied: charset-normalizer<4,>=2 in /usr/local/lib/python3.10/dist-packages (from requests<3,>=2.17.3->mlflow-skinny==2.18.0->mlflow) (3.4.0)\n",
            "Requirement already satisfied: idna<4,>=2.5 in /usr/local/lib/python3.10/dist-packages (from requests<3,>=2.17.3->mlflow-skinny==2.18.0->mlflow) (3.10)\n",
            "Requirement already satisfied: certifi>=2017.4.17 in /usr/local/lib/python3.10/dist-packages (from requests<3,>=2.17.3->mlflow-skinny==2.18.0->mlflow) (2024.8.30)\n",
            "Requirement already satisfied: wrapt<2,>=1.10 in /usr/local/lib/python3.10/dist-packages (from deprecated>=1.2.6->opentelemetry-api<3,>=1.9.0->mlflow-skinny==2.18.0->mlflow) (1.17.0)\n",
            "Requirement already satisfied: smmap<6,>=3.0.1 in /usr/local/lib/python3.10/dist-packages (from gitdb<5,>=4.0.1->gitpython<4,>=3.1.9->mlflow-skinny==2.18.0->mlflow) (5.0.1)\n",
            "Requirement already satisfied: pyasn1-modules>=0.2.1 in /usr/local/lib/python3.10/dist-packages (from google-auth~=2.0->databricks-sdk<1,>=0.20.0->mlflow-skinny==2.18.0->mlflow) (0.4.1)\n",
            "Requirement already satisfied: rsa<5,>=3.1.4 in /usr/local/lib/python3.10/dist-packages (from google-auth~=2.0->databricks-sdk<1,>=0.20.0->mlflow-skinny==2.18.0->mlflow) (4.9)\n",
            "Requirement already satisfied: pyasn1<0.7.0,>=0.4.6 in /usr/local/lib/python3.10/dist-packages (from pyasn1-modules>=0.2.1->google-auth~=2.0->databricks-sdk<1,>=0.20.0->mlflow-skinny==2.18.0->mlflow) (0.6.1)\n"
          ]
        }
      ]
    },
    {
      "cell_type": "markdown",
      "source": [
        "## Préparation des données"
      ],
      "metadata": {
        "id": "wYPlgIiOdLi5"
      }
    },
    {
      "cell_type": "code",
      "source": [
        "from sklearn.model_selection import train_test_split\n",
        "\n",
        "X = london_df.drop('mean_temp', axis=1)\n",
        "y = london_df['mean_temp']\n",
        "\n",
        "# Convert 'date' column to ordinal representation\n",
        "X['date'] = pd.to_datetime(X['date']).apply(lambda date: date.toordinal())\n",
        "\n",
        "# Split data into training and testing sets\n",
        "X_train, X_test, y_train, y_test = train_test_split(X, y, test_size=0.2, random_state=42)"
      ],
      "metadata": {
        "id": "CpPXzl_QdBNL"
      },
      "execution_count": 35,
      "outputs": []
    },
    {
      "cell_type": "markdown",
      "source": [
        "## Prédir `mean_temp` avec linear regression model"
      ],
      "metadata": {
        "id": "KRlHePAsckj_"
      }
    },
    {
      "cell_type": "code",
      "source": [
        "import mlflow\n",
        "import pandas as pd\n",
        "from sklearn.linear_model import LinearRegression\n",
        "from sklearn.metrics import mean_squared_error\n",
        "import math\n",
        "\n",
        "with mlflow.start_run():\n",
        "    # Initialize and train the linear regression model\n",
        "    model = LinearRegression()\n",
        "    model.fit(X_train, y_train)\n",
        "\n",
        "    # Make predictions\n",
        "    y_pred = model.predict(X_test)\n",
        "\n",
        "    # Evaluate the model\n",
        "    rmse = math.sqrt(mean_squared_error(y_test, y_pred))\n",
        "\n",
        "    # Log the metrics and model\n",
        "    mlflow.log_metric(\"rmse\", rmse)\n",
        "    mlflow.sklearn.log_model(model, \"linear_regression_model\")\n",
        "\n",
        "    print(f\"Root Mean Squared Error (RMSE): {rmse}\")"
      ],
      "metadata": {
        "colab": {
          "base_uri": "https://localhost:8080/"
        },
        "id": "8DJV74daARCF",
        "outputId": "ba96a0bf-c051-44f5-8402-e989730d939f"
      },
      "execution_count": 36,
      "outputs": [
        {
          "output_type": "stream",
          "name": "stderr",
          "text": [
            "2024/12/07 14:47:12 WARNING mlflow.models.model: Model logged without a signature and input example. Please set `input_example` parameter when logging the model to auto infer the model signature.\n"
          ]
        },
        {
          "output_type": "stream",
          "name": "stdout",
          "text": [
            "Root Mean Squared Error (RMSE): 0.8899035445544228\n"
          ]
        }
      ]
    },
    {
      "cell_type": "markdown",
      "source": [
        "## Prédir `mean_temp` avec Régression `Ridge` et `Lasso`"
      ],
      "metadata": {
        "id": "H-C6jzs_cVvn"
      }
    },
    {
      "cell_type": "code",
      "source": [
        "import pandas as pd\n",
        "import numpy as np\n",
        "from sklearn.linear_model import Ridge, Lasso\n",
        "from sklearn.metrics import mean_squared_error\n",
        "import math\n",
        "import mlflow\n",
        "from sklearn.model_selection import train_test_split\n",
        "\n",
        "with mlflow.start_run(run_name=\"Ridge Regression\"):\n",
        "    ridge_model = Ridge(alpha=1.0)\n",
        "    ridge_model.fit(X_train, y_train)\n",
        "    y_pred_ridge = ridge_model.predict(X_test)\n",
        "    rmse_ridge = math.sqrt(mean_squared_error(y_test, y_pred_ridge))\n",
        "    mlflow.log_metric(\"rmse\", rmse_ridge)\n",
        "    mlflow.sklearn.log_model(ridge_model, \"ridge_model\")\n",
        "    print(f\"Ridge Regression RMSE: {rmse_ridge}\")\n",
        "\n",
        "with mlflow.start_run(run_name=\"Lasso Regression\"):\n",
        "    lasso_model = Lasso(alpha=1.0)\n",
        "    lasso_model.fit(X_train, y_train)\n",
        "    y_pred_lasso = lasso_model.predict(X_test)\n",
        "    rmse_lasso = math.sqrt(mean_squared_error(y_test, y_pred_lasso))\n",
        "    mlflow.log_metric(\"rmse\", rmse_lasso)\n",
        "    mlflow.sklearn.log_model(lasso_model, \"lasso_model\")\n",
        "    print(f\"Lasso Regression RMSE: {rmse_lasso}\")"
      ],
      "metadata": {
        "colab": {
          "base_uri": "https://localhost:8080/"
        },
        "id": "mHlRy_cuBN8K",
        "outputId": "0f7b0b8c-4d5c-491d-8c6a-335644197a25"
      },
      "execution_count": 37,
      "outputs": [
        {
          "output_type": "stream",
          "name": "stderr",
          "text": [
            "2024/12/07 14:47:18 WARNING mlflow.models.model: Model logged without a signature and input example. Please set `input_example` parameter when logging the model to auto infer the model signature.\n"
          ]
        },
        {
          "output_type": "stream",
          "name": "stdout",
          "text": [
            "Ridge Regression RMSE: 0.8899032550998695\n"
          ]
        },
        {
          "output_type": "stream",
          "name": "stderr",
          "text": [
            "2024/12/07 14:47:24 WARNING mlflow.models.model: Model logged without a signature and input example. Please set `input_example` parameter when logging the model to auto infer the model signature.\n"
          ]
        },
        {
          "output_type": "stream",
          "name": "stdout",
          "text": [
            "Lasso Regression RMSE: 0.936689229384416\n"
          ]
        }
      ]
    },
    {
      "cell_type": "markdown",
      "source": [
        "## Prédir `mean_temp` avec XGboost"
      ],
      "metadata": {
        "id": "GN6D7zeucHUH"
      }
    },
    {
      "cell_type": "code",
      "source": [
        "import mlflow\n",
        "import xgboost as xgb\n",
        "from sklearn.metrics import mean_squared_error\n",
        "import math\n",
        "from sklearn.model_selection import train_test_split\n",
        "\n",
        "with mlflow.start_run(run_name=\"XGBoost Regression\"):\n",
        "    # Initialize and train the XGBoost model\n",
        "    model = xgb.XGBRegressor(objective='reg:squarederror', random_state=42) # Use appropriate objective\n",
        "    model.fit(X_train, y_train)\n",
        "\n",
        "    # Make predictions\n",
        "    y_pred = model.predict(X_test)\n",
        "\n",
        "    # Evaluate the model\n",
        "    rmse = math.sqrt(mean_squared_error(y_test, y_pred))\n",
        "\n",
        "    # Log the metrics and model\n",
        "    mlflow.log_metric(\"rmse\", rmse)\n",
        "    mlflow.xgboost.log_model(model, \"xgboost_model\")\n",
        "\n",
        "    print(f\"XGBoost Regression RMSE: {rmse}\")\n",
        "    print(\"XGBoost model training completed and logged to MLflow.\")"
      ],
      "metadata": {
        "colab": {
          "base_uri": "https://localhost:8080/"
        },
        "id": "QCT7WlNqOUyK",
        "outputId": "450a81ae-186c-43e6-9fbf-9313dbcd973e"
      },
      "execution_count": 38,
      "outputs": [
        {
          "output_type": "stream",
          "name": "stderr",
          "text": [
            "/usr/local/lib/python3.10/dist-packages/xgboost/core.py:158: UserWarning: [14:47:30] WARNING: /workspace/src/c_api/c_api.cc:1374: Saving model in the UBJSON format as default.  You can use file extension: `json`, `ubj` or `deprecated` to choose between formats.\n",
            "  warnings.warn(smsg, UserWarning)\n",
            "2024/12/07 14:47:35 WARNING mlflow.models.model: Model logged without a signature and input example. Please set `input_example` parameter when logging the model to auto infer the model signature.\n"
          ]
        },
        {
          "output_type": "stream",
          "name": "stdout",
          "text": [
            "XGBoost Regression RMSE: 0.9063410472123469\n",
            "XGBoost model training completed and logged to MLflow.\n"
          ]
        }
      ]
    },
    {
      "cell_type": "markdown",
      "source": [
        "## Prédir `mean_temp` avec Random Forest"
      ],
      "metadata": {
        "id": "4ICaICf1b6Vk"
      }
    },
    {
      "cell_type": "code",
      "source": [
        "import pandas as pd\n",
        "import numpy as np\n",
        "from sklearn.ensemble import RandomForestRegressor\n",
        "from sklearn.model_selection import train_test_split\n",
        "import mlflow\n",
        "from sklearn.metrics import mean_squared_error\n",
        "import math\n",
        "\n",
        "with mlflow.start_run(run_name=\"Random Forest Regression\"):\n",
        "    # Initialize and train the RandomForestRegressor\n",
        "    rf_model = RandomForestRegressor(n_estimators=100, random_state=42)  # You can tune these hyperparameters\n",
        "    rf_model.fit(X_train, y_train)\n",
        "\n",
        "    # Make predictions\n",
        "    y_pred = rf_model.predict(X_test)\n",
        "\n",
        "    # Evaluate the model\n",
        "    rmse = math.sqrt(mean_squared_error(y_test, y_pred))\n",
        "\n",
        "    # Log the metrics and model with MLflow\n",
        "    mlflow.log_metric(\"rmse\", rmse)\n",
        "    mlflow.sklearn.log_model(rf_model, \"random_forest_model\")\n",
        "\n",
        "    print(f\"Random Forest Regression RMSE: {rmse}\")"
      ],
      "metadata": {
        "colab": {
          "base_uri": "https://localhost:8080/"
        },
        "id": "XAvTGXUaCeyl",
        "outputId": "819620cf-43e5-4c99-e49e-0243949f3d2d"
      },
      "execution_count": 39,
      "outputs": [
        {
          "output_type": "stream",
          "name": "stderr",
          "text": [
            "2024/12/07 14:47:49 WARNING mlflow.models.model: Model logged without a signature and input example. Please set `input_example` parameter when logging the model to auto infer the model signature.\n"
          ]
        },
        {
          "output_type": "stream",
          "name": "stdout",
          "text": [
            "Random Forest Regression RMSE: 0.8898043030996997\n"
          ]
        }
      ]
    },
    {
      "cell_type": "markdown",
      "source": [
        "## Comparaison des modèles en se basant sur leur RMSE"
      ],
      "metadata": {
        "id": "wDgvB96LLcin"
      }
    },
    {
      "cell_type": "code",
      "source": [
        "import mlflow\n",
        "from mlflow.tracking import MlflowClient\n",
        "\n",
        "client = MlflowClient()\n",
        "\n",
        "# Use search_experiments() instead of list_experiments()\n",
        "experiments = client.search_experiments()\n",
        "\n",
        "best_model = None\n",
        "best_rmse = float('inf')\n",
        "\n",
        "for experiment in experiments:\n",
        "    runs = client.search_runs(experiment_ids=[experiment.experiment_id])\n",
        "    for run in runs:\n",
        "        metrics = run.data.metrics\n",
        "        if \"rmse\" in metrics:  # Check if RMSE is logged for this run\n",
        "            rmse = metrics[\"rmse\"]\n",
        "            if rmse < best_rmse:\n",
        "                best_rmse = rmse\n",
        "                best_model = run.info.run_id\n",
        "                model_name = run.data.tags.get(\"mlflow.runName\", \"Unknown Model\")\n",
        "\n",
        "if best_model:\n",
        "  print(f\"The best model is: {model_name} with id {best_model} and RMSE: {best_rmse}\")\n",
        "else:\n",
        "  print(\"No runs with RMSE found in the MLflow tracking server.\")"
      ],
      "metadata": {
        "colab": {
          "base_uri": "https://localhost:8080/"
        },
        "id": "hVYmBLRCKkay",
        "outputId": "1150f648-fb04-4804-98fb-3410d1900712"
      },
      "execution_count": 40,
      "outputs": [
        {
          "output_type": "stream",
          "name": "stdout",
          "text": [
            "The best model is: Random Forest Regression with id 59732b22916f47fcb744cc1189673a7d and RMSE: 0.8898043030996997\n"
          ]
        }
      ]
    },
    {
      "cell_type": "markdown",
      "source": [
        "## Optimization du modèle Random Forest"
      ],
      "metadata": {
        "id": "r52ZqHu0MBUl"
      }
    },
    {
      "cell_type": "code",
      "source": [
        "from sklearn.model_selection import GridSearchCV, RandomizedSearchCV\n",
        "from sklearn.ensemble import RandomForestRegressor\n",
        "from sklearn.metrics import mean_squared_error\n",
        "import math\n",
        "\n",
        "# Define the parameter grid for RandomForestRegressor\n",
        "param_grid = {\n",
        "    'n_estimators': [50, 100, 200],\n",
        "    'max_depth': [None, 10, 20],\n",
        "    'min_samples_split': [2, 5, 10],\n",
        "    'min_samples_leaf': [1, 2, 4]\n",
        "}\n",
        "\n",
        "# Initialize RandomForestRegressor\n",
        "rf_model = RandomForestRegressor(random_state=42)\n",
        "\n",
        "# Use GridSearchCV for exhaustive search (can be slow for larger grids)\n",
        "# grid_search = GridSearchCV(rf_model, param_grid, cv=5, scoring='neg_mean_squared_error')\n",
        "# grid_search.fit(X_train, y_train)\n",
        "\n",
        "# Use RandomizedSearchCV for a more efficient search\n",
        "random_search = RandomizedSearchCV(rf_model, param_grid, n_iter=10, cv=5, scoring='neg_mean_squared_error', random_state=42)\n",
        "random_search.fit(X_train, y_train)\n",
        "\n",
        "\n",
        "# Get the best model and its hyperparameters\n",
        "# best_rf_model = grid_search.best_estimator_\n",
        "# best_params = grid_search.best_params_\n",
        "\n",
        "best_rf_model = random_search.best_estimator_\n",
        "best_params = random_search.best_params_\n",
        "\n",
        "print(f\"Best hyperparameters: {best_params}\")\n",
        "\n",
        "\n",
        "# Evaluate the best model\n",
        "y_pred = best_rf_model.predict(X_test)\n",
        "rmse = math.sqrt(mean_squared_error(y_test, y_pred))\n",
        "\n",
        "print(f\"Best Random Forest Regression RMSE: {rmse}\")\n",
        "\n",
        "# with mlflow.start_run(run_name=\"Random Forest Regression - GridSearch\"):\n",
        "#     mlflow.log_params(best_params)\n",
        "#     mlflow.log_metric(\"rmse\", rmse)\n",
        "#     mlflow.sklearn.log_model(best_rf_model, \"random_forest_best_model\")"
      ],
      "metadata": {
        "id": "DK2g5aehEPwZ",
        "outputId": "569af2b0-fd3b-4a00-f1ea-72f801b9d89f",
        "colab": {
          "base_uri": "https://localhost:8080/"
        }
      },
      "execution_count": 41,
      "outputs": [
        {
          "output_type": "stream",
          "name": "stdout",
          "text": [
            "Best hyperparameters: {'n_estimators': 100, 'min_samples_split': 10, 'min_samples_leaf': 2, 'max_depth': 20}\n",
            "Best Random Forest Regression RMSE: 0.8785364079167323\n"
          ]
        }
      ]
    },
    {
      "cell_type": "markdown",
      "source": [
        "## Extraction des informations d'exécution pour les stocker dans experiment_results  et faites l'affichage"
      ],
      "metadata": {
        "id": "BaerqigUbpxa"
      }
    },
    {
      "cell_type": "code",
      "source": [
        "experiment_results = {}\n",
        "client = MlflowClient()\n",
        "experiments = client.search_experiments()\n",
        "\n",
        "for experiment in experiments:\n",
        "    runs = client.search_runs(experiment_ids=[experiment.experiment_id])\n",
        "    for run in runs:\n",
        "        metrics = run.data.metrics\n",
        "        if \"rmse\" in metrics:\n",
        "            rmse = metrics[\"rmse\"]\n",
        "            model_name = run.data.tags.get(\"mlflow.runName\", \"Unknown Model\")\n",
        "            experiment_results[model_name] = rmse\n",
        "\n",
        "experiment_results"
      ],
      "metadata": {
        "colab": {
          "base_uri": "https://localhost:8080/"
        },
        "id": "0rZXdC3xNQlp",
        "outputId": "4c60c283-0c3e-4c15-dce3-467c9c7ad0ef"
      },
      "execution_count": 42,
      "outputs": [
        {
          "output_type": "execute_result",
          "data": {
            "text/plain": [
              "{'Random Forest Regression': 0.8898043030996997,\n",
              " 'XGBoost Regression': 0.9063410472123469,\n",
              " 'Lasso Regression': 0.936689229384416,\n",
              " 'Ridge Regression': 0.8899032550998695,\n",
              " 'big-cod-896': 0.8899035445544228}"
            ]
          },
          "metadata": {},
          "execution_count": 42
        }
      ]
    },
    {
      "cell_type": "code",
      "source": [
        "!pip freeze > requirements.txt"
      ],
      "metadata": {
        "id": "8bLDX9nrPPem"
      },
      "execution_count": 43,
      "outputs": []
    }
  ]
}